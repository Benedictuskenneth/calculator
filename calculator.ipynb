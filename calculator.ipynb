{
 "cells": [
  {
   "cell_type": "code",
   "execution_count": 5,
   "metadata": {},
   "outputs": [
    {
     "name": "stdout",
     "output_type": "stream",
     "text": [
      "Operation:\n",
      "1. +\n",
      "2. -\n",
      "3. x\n",
      "4. :\n"
     ]
    },
    {
     "name": "stdout",
     "output_type": "stream",
     "text": [
      "Hasil: 2.0 + 3.0 = 5.0\n",
      "Pilihan tidak valid. Silakan coba lagi.\n",
      "Pilihan tidak valid. Silakan coba lagi.\n",
      "Pilihan tidak valid. Silakan coba lagi.\n",
      "Pilihan tidak valid. Silakan coba lagi.\n",
      "Pilihan tidak valid. Silakan coba lagi.\n",
      "Pilihan tidak valid. Silakan coba lagi.\n",
      "Hasil: 3.0 * 5.0 = 15.0\n"
     ]
    }
   ],
   "source": [
    "def tambah(x, y):\n",
    "    return x + y\n",
    "\n",
    "def kurang(x, y):\n",
    "    return x - y\n",
    "\n",
    "def kali(x, y):\n",
    "    return x * y\n",
    "\n",
    "def bagi(x, y):\n",
    "    if y == 0:\n",
    "        return \"Error\"\n",
    "    else:\n",
    "        return x / y\n",
    "\n",
    "\n",
    "def kalkulator():\n",
    "    print(\"Operation:\")\n",
    "    print(\"1. +\")\n",
    "    print(\"2. -\")\n",
    "    print(\"3. x\")\n",
    "    print(\"4. :\")\n",
    "    \n",
    "    while True:\n",
    "        \n",
    "        pilihan = input(\"Masukkan pilihan (1/2/3/4): \")\n",
    "\n",
    "        \n",
    "        if pilihan in ['1', '2', '3', '4']:\n",
    "            try:\n",
    "                num1 = float(input(\"Masukkan angka pertama: \"))\n",
    "                num2 = float(input(\"Masukkan angka kedua: \"))\n",
    "            except ValueError:\n",
    "                print(\"Error: Input harus berupa angka.\")\n",
    "                continue\n",
    "\n",
    "            if pilihan == '1':\n",
    "                print(f\"Hasil: {num1} + {num2} = {tambah(num1, num2)}\")\n",
    "            elif pilihan == '2':\n",
    "                print(f\"Hasil: {num1} - {num2} = {kurang(num1, num2)}\")\n",
    "            elif pilihan == '3':\n",
    "                print(f\"Hasil: {num1} * {num2} = {kali(num1, num2)}\")\n",
    "            elif pilihan == '4':\n",
    "                print(f\"Hasil: {num1} / {num2} = {bagi(num1, num2)}\")\n",
    "            \n",
    "  \n",
    "            lanjut = input(\"lanjut? (ya/tidak): \").lower()\n",
    "            if lanjut != 'ya':\n",
    "                break\n",
    "        else:\n",
    "            print(\"Pilihan tidak valid. Silakan coba lagi.\")\n",
    "\n",
    "\n",
    "kalkulator()"
   ]
  }
 ],
 "metadata": {
  "kernelspec": {
   "display_name": "Python 3",
   "language": "python",
   "name": "python3"
  },
  "language_info": {
   "codemirror_mode": {
    "name": "ipython",
    "version": 3
   },
   "file_extension": ".py",
   "mimetype": "text/x-python",
   "name": "python",
   "nbconvert_exporter": "python",
   "pygments_lexer": "ipython3",
   "version": "3.12.2"
  }
 },
 "nbformat": 4,
 "nbformat_minor": 2
}
